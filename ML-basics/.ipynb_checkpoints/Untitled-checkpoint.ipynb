{
 "cells": [
  {
   "cell_type": "code",
   "execution_count": 1,
   "id": "4eb256d0-b733-49eb-b22d-6ef285797af9",
   "metadata": {},
   "outputs": [
    {
     "name": "stdout",
     "output_type": "stream",
     "text": [
      "[1 2 3 4 5 6 7]\n",
      "type is:  <class 'numpy.ndarray'>\n",
      "2D array: \n",
      " [[1 2 3]\n",
      " [4 5 6]]\n"
     ]
    }
   ],
   "source": [
    "# What is a Numpy Array?\n",
    "# A numpy array is a grid of values, all of the same type,\n",
    "# and is indexed by a tuple of nonnegative integers. Arrays\n",
    "# are faster and more efficient than Python lists for numerical\n",
    "# computations.\n",
    "import numpy as np\n",
    "\n",
    "# creating 1D array\n",
    "arr1 = np.array([1, 2, 3, 4, 5, 6, 7])\n",
    "print(arr1)\n",
    "print(\"type is: \", type(arr1))\n",
    "\n",
    "# creating a 2D array \n",
    "arr2 = np.array([[1, 2, 3], [4, 5, 6]])\n",
    "print(\"2D array: \\n\", arr2)\n",
    "\n",
    "\n",
    "                "
   ]
  },
  {
   "cell_type": "code",
   "execution_count": 2,
   "id": "61b1f06d-4f18-4620-be7b-5302355d8060",
   "metadata": {},
   "outputs": [
    {
     "ename": "SyntaxError",
     "evalue": "invalid syntax (3193700288.py, line 2)",
     "output_type": "error",
     "traceback": [
      "  \u001b[36mCell\u001b[39m\u001b[36m \u001b[39m\u001b[32mIn[2]\u001b[39m\u001b[32m, line 2\u001b[39m\n\u001b[31m    \u001b[39m\u001b[31mThis notebook demonstrates basic **NumPy** usage.\u001b[39m\n         ^\n\u001b[31mSyntaxError\u001b[39m\u001b[31m:\u001b[39m invalid syntax\n"
     ]
    }
   ],
   "source": [
    "# My First md Notebook\n",
    "This notebook demonstrates basic **NumPy** usage."
   ]
  }
 ],
 "metadata": {
  "kernelspec": {
   "display_name": "Python 3 (ipykernel)",
   "language": "python",
   "name": "python3"
  },
  "language_info": {
   "codemirror_mode": {
    "name": "ipython",
    "version": 3
   },
   "file_extension": ".py",
   "mimetype": "text/x-python",
   "name": "python",
   "nbconvert_exporter": "python",
   "pygments_lexer": "ipython3",
   "version": "3.11.13"
  }
 },
 "nbformat": 4,
 "nbformat_minor": 5
}
