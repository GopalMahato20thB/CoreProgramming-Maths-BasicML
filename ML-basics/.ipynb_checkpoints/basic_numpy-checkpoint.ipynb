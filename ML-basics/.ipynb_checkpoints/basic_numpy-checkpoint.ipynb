{
 "cells": [
  {
   "cell_type": "markdown",
   "id": "88e59907-b65d-4fa3-af51-5d1c291a2043",
   "metadata": {},
   "source": [
    " # My First Notebook\n",
    "This notebook demonstrates basic **NumPy** usage."
   ]
  },
  {
   "cell_type": "code",
   "execution_count": null,
   "id": "ecbe6a39-11f1-451d-958d-34366273fa91",
   "metadata": {},
   "outputs": [],
   "source": [
    "# What is a Numpy Array?\n",
    "# A numpy array is a grid of values, all of the same type,\n",
    "# and is indexed by a tuple of nonnegative integers. Arrays\n",
    "# are faster and more efficient than Python lists for numerical\n",
    "# computations.\n",
    "import numpy as np\n",
    "\n",
    "# creating 1D array\n",
    "arr1 = np.array([1, 2, 3, 4, 5, 6, 7])\n",
    "print(arr1)\n",
    "print(\"type is: \", type(arr1))\n",
    "\n",
    "# creating a 2D array \n",
    "arr2 = np.array([[1, 2, 3], [4, 5, 6]])\n",
    "print(\"2D array: \\n\", arr2)\n",
    "\n",
    "\n",
    "            "
   ]
  },
  {
   "cell_type": "markdown",
   "id": "cc3539ba-c2c7-47f4-b899-999f83304238",
   "metadata": {},
   "source": [
    "# tasks: Create both 1D and 2D arrays with your own values."
   ]
  },
  {
   "cell_type": "code",
   "execution_count": 4,
   "id": "60e4e679-2fd4-4692-b284-da79196e9a89",
   "metadata": {},
   "outputs": [
    {
     "name": "stdout",
     "output_type": "stream",
     "text": [
      "ONE D Array: \n",
      " [ 98  99 100]\n",
      "\n",
      "TWO D Array: \n",
      " [[1 1 1]\n",
      " [2 2 2]]\n"
     ]
    }
   ],
   "source": [
    "import numpy as np\n",
    "one_d = np.array([98, 99, 100])\n",
    "print(\"ONE D Array: \\n\", one_d)\n",
    "print()\n",
    "two_d = np.array([[1, 1, 1], [2, 2, 2]])\n",
    "print(\"TWO D Array: \\n\", two_d)"
   ]
  },
  {
   "cell_type": "markdown",
   "id": "409fef2a-5219-4e22-8af8-81f955719fcb",
   "metadata": {},
   "source": [
    "# Array Indexing & Slicing \n",
    "- Access elements with square brackets.\n",
    "- Slice array to get subarrays."
   ]
  },
  {
   "cell_type": "code",
   "execution_count": 5,
   "id": "808c105f-a552-42cf-917d-b0211fefdaa6",
   "metadata": {},
   "outputs": [
    {
     "name": "stdout",
     "output_type": "stream",
     "text": [
      "20\n",
      "[20 30 40]\n",
      "6\n"
     ]
    }
   ],
   "source": [
    "arr = np.array([10, 20, 30, 40, 50, 60, 70])\n",
    "print(arr[1])  #access and prints the second element 20\n",
    "print(arr[1:4]) # slices index 1 to 4 prints index 1 to 3 [20, 30, 40]\n",
    "arr2d = np.array([[1, 2, 3], [4, 5, 6]])\n",
    "print(arr2d[1, 2]) # In this case we have two elements first slice says element 1 that means second element second one is 2, So this will prints value of index 2 of 1 idex of the 2d array\n"
   ]
  },
  {
   "cell_type": "markdown",
   "id": "607716e9-697f-4ee7-bebe-8c155884630d",
   "metadata": {},
   "source": [
    "# Task\n",
    "- Given arr = np.array([2, print the last 3 elements."
   ]
  },
  {
   "cell_type": "code",
   "execution_count": 7,
   "id": "bb6688da-6c8b-4afc-9a26-d28400347da3",
   "metadata": {},
   "outputs": [
    {
     "name": "stdout",
     "output_type": "stream",
     "text": [
      "[ 8 10 12]\n"
     ]
    }
   ],
   "source": [
    "import numpy as np\n",
    "\n",
    "arr = np.array([2, 4 ,6, 8, 10, 12])\n",
    "print(arr[-3:])\n"
   ]
  },
  {
   "cell_type": "markdown",
   "id": "a888b2b4-9613-41ce-af8f-9305af6cd9a1",
   "metadata": {},
   "source": [
    "# 3 Vectorized Operations\n",
    "- Apply mathematical operations to entire arrays without explicit loops."
   ]
  },
  {
   "cell_type": "code",
   "execution_count": 10,
   "id": "dfcaf65d-dd93-4255-a5fb-f9317861749c",
   "metadata": {},
   "outputs": [
    {
     "name": "stdout",
     "output_type": "stream",
     "text": [
      "[5 7 9]\n",
      "[ 4 10 18]\n",
      "[1 4 9]\n",
      "[16 25 36]\n",
      "[  1  32 729]\n"
     ]
    }
   ],
   "source": [
    "a = np.array([1, 2, 3])\n",
    "b = np.array([4, 5, 6])\n",
    "\n",
    "print(a + b)\n",
    "print(a * b)\n",
    "print(a ** 2)\n",
    "print(b ** 2)\n",
    "print(a ** b) # should be [1, 32, 729]\n"
   ]
  },
  {
   "cell_type": "code",
   "execution_count": null,
   "id": "8f401dd1-4af3-439f-af7f-bf92f86d4010",
   "metadata": {},
   "outputs": [],
   "source": []
  }
 ],
 "metadata": {
  "kernelspec": {
   "display_name": "Python 3 (ipykernel)",
   "language": "python",
   "name": "python3"
  },
  "language_info": {
   "codemirror_mode": {
    "name": "ipython",
    "version": 3
   },
   "file_extension": ".py",
   "mimetype": "text/x-python",
   "name": "python",
   "nbconvert_exporter": "python",
   "pygments_lexer": "ipython3",
   "version": "3.11.13"
  }
 },
 "nbformat": 4,
 "nbformat_minor": 5
}
