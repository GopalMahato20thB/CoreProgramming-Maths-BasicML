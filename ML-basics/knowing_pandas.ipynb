{
 "cells": [
  {
   "cell_type": "markdown",
   "id": "e65e734b-0920-465d-91a7-38c64cc97e8c",
   "metadata": {},
   "source": [
    "# matplotlib\n",
    "- matplotlib is the primary scientific plotting library in Python."
   ]
  },
  {
   "cell_type": "code",
   "execution_count": 6,
   "id": "c80b0282-9e19-4201-8722-5a3cd086e145",
   "metadata": {},
   "outputs": [
    {
     "data": {
      "text/plain": [
       "[<matplotlib.lines.Line2D at 0x7fcb8da83f50>]"
      ]
     },
     "execution_count": 6,
     "metadata": {},
     "output_type": "execute_result"
    }
   ],
   "source": [
    "import numpy as np\n",
    "%matplotlib inline\n",
    "import matplotlib.pyplot as plt\n",
    "# generating a sequence of numbers from -10 to 10 with 100 steps in between\n",
    "x = np.linspace(-10, 10, 100)\n",
    "# creating a second array using sine\n",
    "y = np.sin(x)\n",
    "# The plot function makes a line chart of one array against another\n",
    "plt.plot(x, y, marker=\"x\")"
   ]
  },
  {
   "cell_type": "markdown",
   "id": "1367b5ae-a67c-4ec4-891f-b4fa6cb35824",
   "metadata": {},
   "source": [
    "# pandas \n",
    "- pandas is a Python library for data warngling and analysis.\n",
    "- create a simple dataset of people"
   ]
  },
  {
   "cell_type": "code",
   "execution_count": 4,
   "id": "e4999f85-1096-4fed-ae70-0c97731b342d",
   "metadata": {},
   "outputs": [
    {
     "data": {
      "text/html": [
       "<div>\n",
       "<style scoped>\n",
       "    .dataframe tbody tr th:only-of-type {\n",
       "        vertical-align: middle;\n",
       "    }\n",
       "\n",
       "    .dataframe tbody tr th {\n",
       "        vertical-align: top;\n",
       "    }\n",
       "\n",
       "    .dataframe thead th {\n",
       "        text-align: right;\n",
       "    }\n",
       "</style>\n",
       "<table border=\"1\" class=\"dataframe\">\n",
       "  <thead>\n",
       "    <tr style=\"text-align: right;\">\n",
       "      <th></th>\n",
       "      <th>name</th>\n",
       "      <th>Location</th>\n",
       "      <th>Age</th>\n",
       "    </tr>\n",
       "  </thead>\n",
       "  <tbody>\n",
       "    <tr>\n",
       "      <th>0</th>\n",
       "      <td>Gopal</td>\n",
       "      <td>Baragram</td>\n",
       "      <td>19</td>\n",
       "    </tr>\n",
       "    <tr>\n",
       "      <th>1</th>\n",
       "      <td>Bimalendu</td>\n",
       "      <td>Badra</td>\n",
       "      <td>20</td>\n",
       "    </tr>\n",
       "    <tr>\n",
       "      <th>2</th>\n",
       "      <td>Subham</td>\n",
       "      <td>Bispura</td>\n",
       "      <td>20</td>\n",
       "    </tr>\n",
       "    <tr>\n",
       "      <th>3</th>\n",
       "      <td>Yubraj</td>\n",
       "      <td>Baragram</td>\n",
       "      <td>21</td>\n",
       "    </tr>\n",
       "  </tbody>\n",
       "</table>\n",
       "</div>"
      ],
      "text/plain": [
       "        name  Location  Age\n",
       "0      Gopal  Baragram   19\n",
       "1  Bimalendu     Badra   20\n",
       "2     Subham   Bispura   20\n",
       "3     Yubraj  Baragram   21"
      ]
     },
     "metadata": {},
     "output_type": "display_data"
    },
    {
     "name": "stdout",
     "output_type": "stream",
     "text": [
      "There are several possible ways to query this table. For example:\n",
      "Selecting all rows that have an age column greater than 19\n"
     ]
    },
    {
     "data": {
      "text/html": [
       "<div>\n",
       "<style scoped>\n",
       "    .dataframe tbody tr th:only-of-type {\n",
       "        vertical-align: middle;\n",
       "    }\n",
       "\n",
       "    .dataframe tbody tr th {\n",
       "        vertical-align: top;\n",
       "    }\n",
       "\n",
       "    .dataframe thead th {\n",
       "        text-align: right;\n",
       "    }\n",
       "</style>\n",
       "<table border=\"1\" class=\"dataframe\">\n",
       "  <thead>\n",
       "    <tr style=\"text-align: right;\">\n",
       "      <th></th>\n",
       "      <th>name</th>\n",
       "      <th>Location</th>\n",
       "      <th>Age</th>\n",
       "    </tr>\n",
       "  </thead>\n",
       "  <tbody>\n",
       "    <tr>\n",
       "      <th>1</th>\n",
       "      <td>Bimalendu</td>\n",
       "      <td>Badra</td>\n",
       "      <td>20</td>\n",
       "    </tr>\n",
       "    <tr>\n",
       "      <th>2</th>\n",
       "      <td>Subham</td>\n",
       "      <td>Bispura</td>\n",
       "      <td>20</td>\n",
       "    </tr>\n",
       "    <tr>\n",
       "      <th>3</th>\n",
       "      <td>Yubraj</td>\n",
       "      <td>Baragram</td>\n",
       "      <td>21</td>\n",
       "    </tr>\n",
       "  </tbody>\n",
       "</table>\n",
       "</div>"
      ],
      "text/plain": [
       "        name  Location  Age\n",
       "1  Bimalendu     Badra   20\n",
       "2     Subham   Bispura   20\n",
       "3     Yubraj  Baragram   21"
      ]
     },
     "metadata": {},
     "output_type": "display_data"
    }
   ],
   "source": [
    "import pandas as pd\n",
    "data = { \"name\": [\"Gopal\", \"Bimalendu\", \"Subham\", \"Yubraj\"],\n",
    "        \"Location\": [\"Baragram\", \"Badra\", \"Bispura\", \"Baragram\"],\n",
    "        \"Age\": [19, 20, 20, 21]\n",
    "       }\n",
    "data_pandas = pd.DataFrame(data)\n",
    "display(data_pandas)\n",
    "print(\"There are several possible ways to query this table. For example:\\nSelecting all rows that have an age column greater than 19\")\n",
    "display(data_pandas[data_pandas.Age > 19])\n",
    "\n"
   ]
  },
  {
   "cell_type": "code",
   "execution_count": null,
   "id": "466e7f08-a079-4522-97e8-1c44d9208b52",
   "metadata": {},
   "outputs": [],
   "source": []
  }
 ],
 "metadata": {
  "kernelspec": {
   "display_name": "Python 3 (ipykernel)",
   "language": "python",
   "name": "python3"
  },
  "language_info": {
   "codemirror_mode": {
    "name": "ipython",
    "version": 3
   },
   "file_extension": ".py",
   "mimetype": "text/x-python",
   "name": "python",
   "nbconvert_exporter": "python",
   "pygments_lexer": "ipython3",
   "version": "3.11.13"
  }
 },
 "nbformat": 4,
 "nbformat_minor": 5
}
