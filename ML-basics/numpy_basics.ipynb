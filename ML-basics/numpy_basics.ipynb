"""
What is Numpy Array?

A numpy array is a grid of values, all of the same type, 
and is indexed by a tuple of nonnegative integers.
Array are faster and more efficient than python list
for numerical computations.
"""
import numpy as np

# creating 1D array
arr1 = np.array([1, 2, 3, 4, 5, 6, 7])
print(arr1)
print("type is: ", type(arr1))

# example from the book this is an example of 2D array

x = np.array([[1, 2, 3], [4, 5, 6]])
print("x: \n", x)
